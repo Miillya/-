{
 "cells": [
  {
   "cell_type": "code",
   "execution_count": 1,
   "id": "66c1808b",
   "metadata": {},
   "outputs": [],
   "source": [
    "import numpy as np"
   ]
  },
  {
   "cell_type": "markdown",
   "id": "42e83866",
   "metadata": {},
   "source": [
    "__1.__ Решите систему уравнений методом Гаусса:\n",
    "\n",
    "$$\\begin{cases}\n",
    "x_{1}+x_{2}-x_{3}-2x_{4}=0, \\\\\n",
    "2x_{1}+x_{2}-x_{3}+x_{4}=-2, \\\\\n",
    "x_{1}+x_{2}-3x_{3}+x_{4}=4.\n",
    "\\end{cases}$$"
   ]
  },
  {
   "cell_type": "markdown",
   "id": "6f0eec62",
   "metadata": {},
   "source": [
    "$$\\begin{pmatrix}\n",
    "\\left.\\begin{matrix}\n",
    "1 & 1 & -1 & -2\\\\ \n",
    "2 & 1 & -1 & 1 \\\\ \n",
    "1 & 1 & -3 & 1\n",
    "\\end{matrix}\\right|\n",
    "\\begin{matrix}\n",
    "0\\\\ \n",
    "-2\\\\\n",
    "4\n",
    "\\end{matrix}\n",
    "\\end{pmatrix}.$$\n",
    "\n",
    "$$\\begin{pmatrix}\n",
    "\\left.\\begin{matrix}\n",
    "1 & 1 & -1 & -2\\\\ \n",
    "0 & -1 & -3 & 5\\\\ \n",
    "0 & 0 & -2 & 3\n",
    "\\end{matrix}\\right|\n",
    "\\begin{matrix}\n",
    "0\\\\ \n",
    "-2\\\\\n",
    "4\n",
    "\\end{matrix}\n",
    "\\end{pmatrix}.$$"
   ]
  },
  {
   "cell_type": "markdown",
   "id": "42fb9d80",
   "metadata": {},
   "source": [
    "$$\\begin{cases}\n",
    "x_{1}+x_{2}-x_{3}-2x_{4}=0, \\\\\n",
    "-x_{2}+x_{3}+5x_{4}=-2, \\\\\n",
    "x_{3}+3/2x_{4}=-2\n",
    "\\end{cases}$$"
   ]
  },
  {
   "cell_type": "markdown",
   "id": "61980425",
   "metadata": {},
   "source": [
    "Получившаяся система имеет бесконечное число решений, т.к. x4 может принимать любые значения, x4 = c"
   ]
  },
  {
   "cell_type": "markdown",
   "id": "969ecec7",
   "metadata": {},
   "source": [
    "$$\\begin{cases}\n",
    "x_{1}=-x_{2}+x_{3}+2c, \\\\\n",
    "x_{2}=2+x_{3}+5c, \\\\\n",
    "x_{3}=-2+3/2c\n",
    "\\end{cases}$$"
   ]
  },
  {
   "cell_type": "markdown",
   "id": "c291c3b7",
   "metadata": {},
   "source": [
    "__2.__ Проверьте на совместность и выясните, сколько решений будет иметь система линейных уравнений:\n",
    "\n",
    "   а) $\\begin{cases}\n",
    "3x_{1}-x_{2}+x_{3}=4, \\\\\n",
    "2x_{1}-5x_{2}-3x_{3}=-17, \\\\\n",
    "x_{1}+x_{2}-x_{3}=0;\n",
    "\\end{cases}$"
   ]
  },
  {
   "cell_type": "markdown",
   "id": "f6f0bdb9",
   "metadata": {},
   "source": [
    "$$\\begin{cases}\n",
    "x_{1}=1, \\\\\n",
    "x_{3}=3, \\\\\n",
    "x_{2}=2\n",
    "\\end{cases}$$"
   ]
  },
  {
   "cell_type": "code",
   "execution_count": 2,
   "id": "ca6bb57e",
   "metadata": {},
   "outputs": [],
   "source": [
    "a = np.array([[3, -1, 1],\n",
    "             [2, -5, -3],\n",
    "             [1, 1, -1]])"
   ]
  },
  {
   "cell_type": "code",
   "execution_count": 3,
   "id": "27f65744",
   "metadata": {},
   "outputs": [],
   "source": [
    "a_ex = np.array([[3, -1, 1, 4],\n",
    "             [2, -5, -3, -17],\n",
    "             [1, 1, -1, 0]])"
   ]
  },
  {
   "cell_type": "code",
   "execution_count": 4,
   "id": "3bad3e6d",
   "metadata": {},
   "outputs": [
    {
     "name": "stdout",
     "output_type": "stream",
     "text": [
      "Ранг матрицы коэфициентов: 3\n",
      "Ранг расширенной матрицы: 3\n"
     ]
    }
   ],
   "source": [
    "print(f'Ранг матрицы коэфициентов: {np.linalg.matrix_rank(a)}')\n",
    "print(f'Ранг расширенной матрицы: {np.linalg.matrix_rank(a_ex)}')"
   ]
  },
  {
   "cell_type": "markdown",
   "id": "20449b27",
   "metadata": {},
   "source": [
    "Система совместимая и имеет единственное решение"
   ]
  },
  {
   "cell_type": "markdown",
   "id": "d50ec0df",
   "metadata": {},
   "source": [
    "б) $\\begin{cases}\n",
    "2x_{1}-4x_{2}+6x_{3}=1, \\\\\n",
    "x_{1}-2x_{2}+3x_{3}=-2, \\\\\n",
    "3x_{1}-6x_{2}+9x_{3}=5;\n",
    "\\end{cases}$"
   ]
  },
  {
   "cell_type": "markdown",
   "id": "7dd2a475",
   "metadata": {},
   "source": [
    "$\\begin{cases}\n",
    "0=5, \\\\\n",
    "x_{1}-2x_{2}+3x_{3}=-2, \\\\\n",
    "0=11\n",
    "\\end{cases}$"
   ]
  },
  {
   "cell_type": "code",
   "execution_count": 6,
   "id": "d8199f9b",
   "metadata": {},
   "outputs": [],
   "source": [
    "b = np.array([[2, -4, 6],\n",
    "             [1, -2, 3],\n",
    "             [3, -6, 9]])"
   ]
  },
  {
   "cell_type": "code",
   "execution_count": 7,
   "id": "e86d018a",
   "metadata": {},
   "outputs": [],
   "source": [
    "b_ex = np.array([[2, -4, 6, 1],\n",
    "             [1, -2, 3, -2],\n",
    "             [3, -6, 9, 5]])"
   ]
  },
  {
   "cell_type": "code",
   "execution_count": 8,
   "id": "b0fefec2",
   "metadata": {},
   "outputs": [
    {
     "name": "stdout",
     "output_type": "stream",
     "text": [
      "Ранг матрицы коэфициентов: 1\n",
      "Ранг расширенной матрицы: 2\n"
     ]
    }
   ],
   "source": [
    "print(f'Ранг матрицы коэфициентов: {np.linalg.matrix_rank(b)}')\n",
    "print(f'Ранг расширенной матрицы: {np.linalg.matrix_rank(b_ex)}')"
   ]
  },
  {
   "cell_type": "markdown",
   "id": "01108ffb",
   "metadata": {},
   "source": [
    "Система несовместима и не имеет решений"
   ]
  },
  {
   "cell_type": "markdown",
   "id": "fac7ec6e",
   "metadata": {},
   "source": [
    "в) $\\begin{cases}\n",
    "x_{1}+2x_{2}+5x_{3}=4, \\\\\n",
    "3x_{1}+x_{2}-8x_{3}=-2. \n",
    "\\end{cases}$"
   ]
  },
  {
   "cell_type": "markdown",
   "id": "3a8ae176",
   "metadata": {},
   "source": [
    "$\\begin{cases}\n",
    "0=5, \\\\\n",
    "x_{1}-2x_{2}+3x_{3}=-2, \\\\\n",
    "0=11\n",
    "\\end{cases}$"
   ]
  },
  {
   "cell_type": "code",
   "execution_count": 9,
   "id": "27399870",
   "metadata": {},
   "outputs": [],
   "source": [
    "c = np.array([[1, 2, 5],\n",
    "             [3, 2, -8]])"
   ]
  },
  {
   "cell_type": "code",
   "execution_count": 10,
   "id": "eecdd87c",
   "metadata": {},
   "outputs": [],
   "source": [
    "c_ex = np.array([[1, 2, 5, 4],\n",
    "             [3, 2, -8, -2]])"
   ]
  },
  {
   "cell_type": "code",
   "execution_count": 11,
   "id": "cbae0e21",
   "metadata": {},
   "outputs": [
    {
     "name": "stdout",
     "output_type": "stream",
     "text": [
      "Ранг матрицы коэфициентов: 2\n",
      "Ранг расширенной матрицы: 2\n"
     ]
    }
   ],
   "source": [
    "print(f'Ранг матрицы коэфициентов: {np.linalg.matrix_rank(c)}')\n",
    "print(f'Ранг расширенной матрицы: {np.linalg.matrix_rank(c_ex)}')"
   ]
  },
  {
   "cell_type": "markdown",
   "id": "4bcd8c4f",
   "metadata": {},
   "source": [
    "Система совместимая и имеет бесконечное количество решений"
   ]
  },
  {
   "cell_type": "markdown",
   "id": "8d0ef7b2",
   "metadata": {},
   "source": [
    "__3.__ Проверьте на совместность и выясните, сколько решений будет иметь система линейных уравнений, заданная расширенной матрицей:\n",
    "\n",
    "$$\\tilde{A}=\\begin{pmatrix}\n",
    "\\left.\\begin{matrix}\n",
    "1 & 3 & -2 & 4\\\\ \n",
    "0 & 5 & 0 & 1\\\\ \n",
    "0 & 0 & 3 & 0\\\\ \n",
    "0 & 0 & 0 & 2\n",
    "\\end{matrix}\\right|\n",
    "\\begin{matrix}\n",
    "3\\\\ \n",
    "2\\\\\n",
    "4\\\\\n",
    "1\n",
    "\\end{matrix}\n",
    "\\end{pmatrix}.$$\n"
   ]
  },
  {
   "cell_type": "code",
   "execution_count": 12,
   "id": "18b32bac",
   "metadata": {},
   "outputs": [],
   "source": [
    "a = np.array([[1, 3, -2, 4],\n",
    "             [0, 5, 0, 1],\n",
    "             [0, 0, 3, 0],\n",
    "             [0, 0, 0, 2]])"
   ]
  },
  {
   "cell_type": "code",
   "execution_count": 13,
   "id": "e26d0d12",
   "metadata": {},
   "outputs": [],
   "source": [
    "a_ex = np.array([[1, 3, -2, 4, 3],\n",
    "             [0, 5, 0, 1, 2],\n",
    "             [0, 0, 3, 0, 4],\n",
    "             [0, 0, 0, 2, 1]])"
   ]
  },
  {
   "cell_type": "code",
   "execution_count": 14,
   "id": "17d7ad33",
   "metadata": {},
   "outputs": [
    {
     "name": "stdout",
     "output_type": "stream",
     "text": [
      "Ранг матрицы коэфициентов: 4\n",
      "Ранг расширенной матрицы: 4\n"
     ]
    }
   ],
   "source": [
    "print(f'Ранг матрицы коэфициентов: {np.linalg.matrix_rank(a)}')\n",
    "print(f'Ранг расширенной матрицы: {np.linalg.matrix_rank(a_ex)}')"
   ]
  },
  {
   "cell_type": "markdown",
   "id": "424a007b",
   "metadata": {},
   "source": [
    "Cистема совместима и имеет одно решение, т.к. ранг матрицы коэфициентов и расширеной матрицы совпадают и равны числу неизвестных"
   ]
  },
  {
   "cell_type": "markdown",
   "id": "0ccc6ff1",
   "metadata": {},
   "source": [
    "__4.__ Дана система линейных уравнений, заданная расширенной матрицей:\n",
    "\n",
    "$$\\tilde{A}=\\begin{pmatrix}\n",
    "\\left.\\begin{matrix}\n",
    "1 & 2 & 3\\\\ \n",
    "4 & 5 & 6\\\\ \n",
    "7 & 8 & 9\n",
    "\\end{matrix}\\right|\n",
    "\\begin{matrix}\n",
    "a\\\\ \n",
    "b\\\\\n",
    "c\n",
    "\\end{matrix}\n",
    "\\end{pmatrix}.$$\n",
    "\n",
    "Найдите соотношение между параметрами $a$, $b$ и $c$, при которых система считается несовместной."
   ]
  },
  {
   "cell_type": "code",
   "execution_count": 15,
   "id": "f554d90f",
   "metadata": {},
   "outputs": [],
   "source": [
    "a = np.array([[1, 2, 3],\n",
    "             [4, 5, 6],\n",
    "             [7, 8, 9]])"
   ]
  },
  {
   "cell_type": "code",
   "execution_count": 16,
   "id": "d58dfffb",
   "metadata": {},
   "outputs": [],
   "source": [
    "a_ex = np.array([[1, 2, 3, 1],\n",
    "             [4, 5, 6, 2],\n",
    "             [7, 8, 9, 4]])"
   ]
  },
  {
   "cell_type": "code",
   "execution_count": 17,
   "id": "a93668e2",
   "metadata": {},
   "outputs": [
    {
     "name": "stdout",
     "output_type": "stream",
     "text": [
      "Ранг матрицы коэфициентов: 2\n",
      "Ранг расширенной матрицы: 3\n"
     ]
    }
   ],
   "source": [
    "print(f'Ранг матрицы коэфициентов: {np.linalg.matrix_rank(a)}')\n",
    "print(f'Ранг расширенной матрицы: {np.linalg.matrix_rank(a_ex)}')"
   ]
  },
  {
   "cell_type": "markdown",
   "id": "8800c609",
   "metadata": {},
   "source": [
    "$$\\begin{pmatrix}\n",
    "\\left.\\begin{matrix}\n",
    "1 & 2 & 3 \\\\ \n",
    "0 & -3 & -6 \\\\ \n",
    "0 & -6 & -12\n",
    "\\end{matrix}\\right|\n",
    "\\begin{matrix}\n",
    "a\\\\ \n",
    "b-4a\\\\\n",
    "c-7a\n",
    "\\end{matrix}\n",
    "\\end{pmatrix}$$\n",
    "\n",
    "$$\\Rightarrow$$\n",
    "\n",
    "$$\\begin{pmatrix}\n",
    "\\left.\\begin{matrix}\n",
    "1 & 2 & 3 \\\\ \n",
    "0 & 1 & 2 \\\\ \n",
    "0 & 0 & 0\n",
    "\\end{matrix}\\right|\n",
    "\\begin{matrix}\n",
    "a\\\\ \n",
    "(4a-b)/3\\\\\n",
    "c+a-2b\n",
    "\\end{matrix}\n",
    "\\end{pmatrix}$$"
   ]
  },
  {
   "cell_type": "markdown",
   "id": "d34f922b",
   "metadata": {},
   "source": [
    "Система будет несовместной только при условии, если $𝑐+𝑎−2𝑏\\neq0$"
   ]
  },
  {
   "cell_type": "markdown",
   "id": "5ee833c8",
   "metadata": {},
   "source": [
    "__1.__ Решите систему уравнений методом Крамера:\n",
    "\n",
    "   а) $\\begin{cases}\n",
    "x_{1}-2x_{2}=1 \\\\\n",
    "3x_{1}-4x_{2}=7\n",
    "\\end{cases}$"
   ]
  },
  {
   "cell_type": "markdown",
   "id": "e77b964c",
   "metadata": {},
   "source": [
    "$detA=\\begin{vmatrix}\n",
    "1 & -2\\\\  \n",
    "3 & -4\n",
    "\\end{vmatrix}=\n",
    "-4+6=2$"
   ]
  },
  {
   "cell_type": "markdown",
   "id": "23dedf0d",
   "metadata": {},
   "source": [
    "$detA_{1}=\\begin{vmatrix}\n",
    "1 & -2\\\\  \n",
    "7 & -4\n",
    "\\end{vmatrix}=\n",
    "-4+14=10$"
   ]
  },
  {
   "cell_type": "markdown",
   "id": "76aa0284",
   "metadata": {},
   "source": [
    "$detA_{2}=\\begin{vmatrix}\n",
    "1 & 1\\\\  \n",
    "3 & 7\n",
    "\\end{vmatrix}=\n",
    "7-3=4$"
   ]
  },
  {
   "cell_type": "markdown",
   "id": "e592f6e4",
   "metadata": {},
   "source": [
    "$x_{1} = \\frac{detA_{1}}{detA} = 5,$"
   ]
  },
  {
   "cell_type": "markdown",
   "id": "3debbb35",
   "metadata": {},
   "source": [
    "$x_{2} = \\frac{detA_{2}}{detA} = 2$"
   ]
  },
  {
   "cell_type": "code",
   "execution_count": 18,
   "id": "670e7bc7",
   "metadata": {},
   "outputs": [
    {
     "name": "stdout",
     "output_type": "stream",
     "text": [
      "х1 = 5\n",
      "х2 = 2\n"
     ]
    }
   ],
   "source": [
    "a = np.array([[1,-2],[3,-4]])\n",
    "a1 = np.array([[1,-2],[7,-4]])\n",
    "a2 = np.array([[1,1],[3,7]])\n",
    "print(f'х1 = {np.linalg.det(a1)/np.linalg.det(a):.0f}')\n",
    "print(f'х2 = {np.linalg.det(a2)/np.linalg.det(a):.0f}')"
   ]
  },
  {
   "cell_type": "markdown",
   "id": "8bd7364f",
   "metadata": {},
   "source": [
    "б) $\\begin{cases}\n",
    "2x_{1}-x_{2}+5x_{3}=10 \\\\\n",
    "x_{1}+x_{2}-3x_{3}=-2 \\\\\n",
    "2x_{1}+4x_{2}+x_{3}=1\n",
    "\\end{cases}$"
   ]
  },
  {
   "cell_type": "markdown",
   "id": "85550e94",
   "metadata": {},
   "source": [
    "$$detA=\\begin{vmatrix}\n",
    "2 & -1 & 5\\\\  \n",
    "1 & 1 & -3\\\\\n",
    "2 & 4 & 1\n",
    "\\end{vmatrix}=\n",
    "2+6+20+24+1-10=43$$"
   ]
  },
  {
   "cell_type": "markdown",
   "id": "a7eb8946",
   "metadata": {},
   "source": [
    "$$detA_{1}=\\begin{vmatrix}\n",
    "10 & -1 & 5\\\\  \n",
    "-2 & 1 & -3\\\\\n",
    "1 & 4 & 1\n",
    "\\end{vmatrix}=\n",
    "10+3-40-5-2+120=86$$"
   ]
  },
  {
   "cell_type": "markdown",
   "id": "60e6dc22",
   "metadata": {},
   "source": [
    "$$detA_{2}=\\begin{vmatrix}\n",
    "2 & 10 & 5\\\\  \n",
    "1 & -2 & -3\\\\\n",
    "2 & 1 & 1\n",
    "\\end{vmatrix}=\n",
    "-4-60+5+20-10+6=-43$$"
   ]
  },
  {
   "cell_type": "markdown",
   "id": "da5b935c",
   "metadata": {},
   "source": [
    "$$detA_{3}=\\begin{vmatrix}\n",
    "2 & -1 & 10\\\\  \n",
    "1 & 1 & -2\\\\\n",
    "2 & 4 & 1\n",
    "\\end{vmatrix}=\n",
    "2+4+40-20+1+16=43$$"
   ]
  },
  {
   "cell_type": "markdown",
   "id": "c299a96a",
   "metadata": {},
   "source": [
    "$$x_{1} = \\frac{detA_{1}}{detA} = 2,$$"
   ]
  },
  {
   "cell_type": "markdown",
   "id": "ab79abe5",
   "metadata": {},
   "source": [
    "$$x_{2} = \\frac{detA_{2}}{detA} = -1,$$"
   ]
  },
  {
   "cell_type": "markdown",
   "id": "f9d4091d",
   "metadata": {},
   "source": [
    "$$x_{3} = \\frac{detA_{3}}{detA} = 1,$$"
   ]
  },
  {
   "cell_type": "code",
   "execution_count": 19,
   "id": "49fdabf2",
   "metadata": {},
   "outputs": [
    {
     "name": "stdout",
     "output_type": "stream",
     "text": [
      "х1 = 2\n",
      "х2 = -1\n",
      "х2 = 1\n"
     ]
    }
   ],
   "source": [
    "b = np.array([[2, -1, 5], [1, 1, -3], [2, 4, 1]])\n",
    "b1 = np.array([[10, -1, 5], [-2, 1, -3], [1, 4, 1]])\n",
    "b2 = np.array([[2, 10, 5], [1, -2, -3], [2, 1, 1]])\n",
    "b3 = np.array([[2, -1, 10], [1, 1, -2], [2, 4, 1]])\n",
    "print(f'х1 = {np.linalg.det(b1)/np.linalg.det(b):.0f}')\n",
    "print(f'х2 = {np.linalg.det(b2)/np.linalg.det(b):.0f}')\n",
    "print(f'х2 = {np.linalg.det(b3)/np.linalg.det(b):.0f}')"
   ]
  },
  {
   "cell_type": "markdown",
   "id": "094e5237",
   "metadata": {},
   "source": [
    "__2*.__ Найдите $L$-матрицу $LU$-разложения для матрицы коэффициентов:\n",
    "\n",
    "   а)$$\\begin{pmatrix}\n",
    "1 & 2 & 4 \\\\ \n",
    "2 & 9 & 12 \\\\ \n",
    "3 & 26 & 30\n",
    "\\end{pmatrix}$$"
   ]
  },
  {
   "cell_type": "markdown",
   "id": "86f434ca",
   "metadata": {},
   "source": [
    "$$U=\\begin{pmatrix}\n",
    "1 & 2 & 4 \\\\ \n",
    "0 & 5 & 4 \\\\ \n",
    "0 & 0 & 2\n",
    "\\end{pmatrix},$$"
   ]
  },
  {
   "cell_type": "markdown",
   "id": "6e1cba73",
   "metadata": {},
   "source": [
    "$$L=\\begin{pmatrix}\n",
    "1 & 0 & 0 \\\\ \n",
    "2 & 1 & 0 \\\\ \n",
    "3 & 4 & 1\n",
    "\\end{pmatrix}$$"
   ]
  },
  {
   "cell_type": "markdown",
   "id": "1d25a9e3",
   "metadata": {},
   "source": [
    "б)$$\\begin{pmatrix}\n",
    "1 & 1 & 2 & 4\\\\ \n",
    "2 & 5 & 8 & 9\\\\ \n",
    "3 & 18 & 29 & 18\\\\\n",
    "4 & 22 & 53 & 33\n",
    "\\end{pmatrix}$$"
   ]
  },
  {
   "cell_type": "markdown",
   "id": "338e902e",
   "metadata": {},
   "source": [
    "$$U=\\begin{pmatrix}\n",
    "1 & 1 & 2 & 4 \\\\ \n",
    "0 & 3 & 4 & 1 \\\\ \n",
    "0 & 0 & 7 & 2 \\\\\n",
    "0 & 0 & 0 & 5\n",
    "\\end{pmatrix},$$"
   ]
  },
  {
   "cell_type": "markdown",
   "id": "5bf7669c",
   "metadata": {},
   "source": [
    "$$L=\\begin{pmatrix}\n",
    "1 & 0 & 0 & 0 \\\\ \n",
    "2 & 1 & 0 & 0 \\\\ \n",
    "3 & 4 & 1 & 0 \\\\\n",
    "4 & 6 & 3 & 1\n",
    "\\end{pmatrix},$$"
   ]
  },
  {
   "cell_type": "markdown",
   "id": "fc2b5fa4",
   "metadata": {},
   "source": [
    "__3*.__ Решите систему линейных уравнений методом $LU$-разложения:\n",
    "\n",
    "$$\\begin{cases}\n",
    "2x_{1}+x_{2}+3x_{3}=1 \\\\\n",
    "11x_{1}+7x_{2}+5x_{3}=-6 \\\\\n",
    "9x_{1}+8x_{2}+4x_{3}=-5\n",
    "\\end{cases}$$"
   ]
  },
  {
   "cell_type": "markdown",
   "id": "5c7299d4",
   "metadata": {},
   "source": [
    "$$\\begin{pmatrix}\n",
    "2 & 1 & 3 \\\\ \n",
    "11 & 7 & 5 \\\\ \n",
    "9 & 8 & 4\n",
    "\\end{pmatrix}$$"
   ]
  },
  {
   "cell_type": "markdown",
   "id": "30846e75",
   "metadata": {},
   "source": [
    "$$\\begin{pmatrix}\n",
    "2 & 1 & 3 \\\\ \n",
    "0 & 3/2 & -23/2 \\\\ \n",
    "0 & 0 & 52/3\n",
    "\\end{pmatrix}$$"
   ]
  },
  {
   "cell_type": "markdown",
   "id": "404ee276",
   "metadata": {},
   "source": [
    "$$U=\\begin{pmatrix}\n",
    "2 & 1 & 3 \\\\ \n",
    "0 & 3 & -23 \\\\ \n",
    "0 & 0 & 52/9\n",
    "\\end{pmatrix},$$"
   ]
  },
  {
   "cell_type": "markdown",
   "id": "5d317442",
   "metadata": {},
   "source": [
    "$$L=\\begin{pmatrix}\n",
    "1 & 0 & 0 \\\\ \n",
    "11/2 & 1 & 0 \\\\ \n",
    "9/2 & 7/2 & 1\n",
    "\\end{pmatrix}$$"
   ]
  },
  {
   "cell_type": "markdown",
   "id": "b205a015",
   "metadata": {},
   "source": [
    "$L_{y} = b$"
   ]
  },
  {
   "cell_type": "markdown",
   "id": "645b9b74",
   "metadata": {},
   "source": [
    "$\\begin{cases}\n",
    "y_{1}=1 \\\\\n",
    "11/2y_{1}+y_{2}=-6 \\\\\n",
    "9/2y_{1}+7/2y_{2}+y_{3}=-5\n",
    "\\end{cases}$"
   ]
  },
  {
   "cell_type": "markdown",
   "id": "c464f3ef",
   "metadata": {},
   "source": [
    "$y_{1}=1$"
   ]
  },
  {
   "cell_type": "markdown",
   "id": "d46a683c",
   "metadata": {},
   "source": [
    "$y_{2}=-6-11/2=-11.5$"
   ]
  },
  {
   "cell_type": "markdown",
   "id": "3eb420e9",
   "metadata": {},
   "source": [
    "$y_{3}=-5-9/2-7/2*(-11.5)=30.75$"
   ]
  },
  {
   "cell_type": "markdown",
   "id": "81eb12b4",
   "metadata": {},
   "source": [
    "$y_{1}=1$"
   ]
  },
  {
   "cell_type": "markdown",
   "id": "99e3e279",
   "metadata": {},
   "source": [
    "$y_{2}=-11.5$"
   ]
  },
  {
   "cell_type": "markdown",
   "id": "60a2f2e2",
   "metadata": {},
   "source": [
    "$y_{3}=30.75$"
   ]
  },
  {
   "cell_type": "markdown",
   "id": "ef3d4938",
   "metadata": {},
   "source": [
    "$U_{x}=y$"
   ]
  },
  {
   "cell_type": "markdown",
   "id": "762aaa18",
   "metadata": {},
   "source": [
    "$$\\begin{cases}\n",
    "2x_{1}+x_{2}+3x_{3}=1 \\\\\n",
    "1.5x_{2}-11.5x_{3}=-11.5 \\\\\n",
    "-20x_{3}=30.75\n",
    "\\end{cases}$$"
   ]
  },
  {
   "cell_type": "markdown",
   "id": "422b414e",
   "metadata": {},
   "source": [
    "$x_{1}=-1$"
   ]
  },
  {
   "cell_type": "markdown",
   "id": "70e7e3a4",
   "metadata": {},
   "source": [
    "$$\\begin{cases}\n",
    "2\\cdot(-1)+3=1, \\\\\n",
    "11\\cdot(-1)+5=-6, \\\\\n",
    "9\\cdot(-1)+4=-5.\n",
    "\\end{cases}$$"
   ]
  },
  {
   "cell_type": "markdown",
   "id": "34875782",
   "metadata": {},
   "source": [
    "__4*.__ Решите систему линейных уравнений методом Холецкого:\n",
    "\n",
    "$$\\begin{cases}\n",
    "81x_{1}-45x_{2}+45x_{3}=531 \\\\\n",
    "-45x_{1}+50x_{2}-15x_{3}=-460 \\\\\n",
    "45x_{1}-15x_{2}+38x_{3}=193\n",
    "\\end{cases}$$"
   ]
  },
  {
   "cell_type": "code",
   "execution_count": 20,
   "id": "0ba823e6",
   "metadata": {},
   "outputs": [
    {
     "name": "stdout",
     "output_type": "stream",
     "text": [
      "[[ 9.  0.  0.]\n",
      " [-5.  5.  0.]\n",
      " [ 5.  2.  3.]]\n"
     ]
    }
   ],
   "source": [
    "from numpy.linalg import cholesky\n",
    "a = np.array([[81, -45, 45], [-45, 50, -15], [45, -15, 38]])\n",
    "ch = cholesky(a)\n",
    "print(ch)"
   ]
  },
  {
   "cell_type": "markdown",
   "id": "38d16855",
   "metadata": {},
   "source": [
    "$L_{y} = b$"
   ]
  },
  {
   "cell_type": "markdown",
   "id": "e3d431ab",
   "metadata": {},
   "source": [
    "$\\begin{cases}\n",
    "9y_{1}=531 \\\\\n",
    "-5y_{1}+5y_{2}=-460 \\\\\n",
    "5y_{1}+2y_{2}+3y_{3}=193\n",
    "\\end{cases}$"
   ]
  },
  {
   "cell_type": "markdown",
   "id": "8b9a5345",
   "metadata": {},
   "source": [
    "$L^{T}x=y:$"
   ]
  },
  {
   "cell_type": "markdown",
   "id": "2467b65c",
   "metadata": {},
   "source": [
    "$\\begin{cases}\n",
    "9x_{1}-5x_{2}+5x_{3}=59 \\\\\n",
    "5x_{2}+2x_{3}=-33 \\\\\n",
    "3x_{3}=-12\n",
    "\\end{cases}$"
   ]
  },
  {
   "cell_type": "markdown",
   "id": "9480180c",
   "metadata": {},
   "source": [
    "$x_{1}=6$"
   ]
  },
  {
   "cell_type": "markdown",
   "id": "08677cc9",
   "metadata": {},
   "source": [
    "$x_{2}=-5$"
   ]
  },
  {
   "cell_type": "markdown",
   "id": "5c23fed5",
   "metadata": {},
   "source": [
    "$x_{3}=-4$"
   ]
  },
  {
   "cell_type": "markdown",
   "id": "b741b215",
   "metadata": {},
   "source": [
    "__5*.__ Напишите на Python программу с реализацией одного из изученных алгоритмов решения СЛАУ."
   ]
  },
  {
   "cell_type": "code",
   "execution_count": 21,
   "id": "4fd1b14d",
   "metadata": {},
   "outputs": [
    {
     "name": "stdout",
     "output_type": "stream",
     "text": [
      "Матрица D:\n",
      "[[8.82486885 0.         0.        ]\n",
      " [0.         6.14060608 0.        ]\n",
      " [0.         0.         2.53271528]\n",
      " [0.         0.         0.        ]\n",
      " [0.         0.         0.        ]]\n",
      "Матрица U:\n",
      "[[ 0.17056501  0.15680918 -0.53077508 -0.79905375 -0.16158397]\n",
      " [ 0.39287016 -0.52933945  0.6134793  -0.43375771  0.03082495]\n",
      " [-0.14366152 -0.82449256 -0.52379105  0.14049848  0.07400343]\n",
      " [ 0.88843702  0.06074346 -0.24655277  0.37755832 -0.06042632]\n",
      " [ 0.08125046  0.10831843 -0.08231425 -0.10524851  0.98173958]]\n",
      "Матрица V:\n",
      "[[ 0.07116451 -0.36737824 -0.92734505]\n",
      " [ 0.71702467  0.66514082 -0.20847855]\n",
      " [ 0.69340553 -0.65009301  0.31075368]]\n"
     ]
    }
   ],
   "source": [
    "a = np.array([[1, 2, 0], [0, 0, 5], [3, -4, 2], [1, 6, 5], [0, 1, 0]])\n",
    "U, s, VT = np.linalg.svd(a)\n",
    "V = VT.T\n",
    "D = np.zeros_like(a, dtype=float)\n",
    "D[np.diag_indices(min(a.shape))] = s\n",
    "print(f'Матрица D:\\n{D}')\n",
    "print(f'Матрица U:\\n{U}')\n",
    "print(f'Матрица V:\\n{V}')"
   ]
  },
  {
   "cell_type": "code",
   "execution_count": null,
   "id": "be8e4a0c",
   "metadata": {},
   "outputs": [],
   "source": []
  }
 ],
 "metadata": {
  "kernelspec": {
   "display_name": "Python 3 (ipykernel)",
   "language": "python",
   "name": "python3"
  },
  "language_info": {
   "codemirror_mode": {
    "name": "ipython",
    "version": 3
   },
   "file_extension": ".py",
   "mimetype": "text/x-python",
   "name": "python",
   "nbconvert_exporter": "python",
   "pygments_lexer": "ipython3",
   "version": "3.9.7"
  }
 },
 "nbformat": 4,
 "nbformat_minor": 5
}
