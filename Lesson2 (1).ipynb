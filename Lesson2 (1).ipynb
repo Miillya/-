{
 "cells": [
  {
   "cell_type": "markdown",
   "id": "c9bd01cf",
   "metadata": {},
   "source": [
    "1. Установите, какие произведения матриц  𝐴𝐵  и  𝐵𝐴  определены, и найдите размерности полученных матриц:"
   ]
  },
  {
   "cell_type": "code",
   "execution_count": 3,
   "id": "2df8e6d2",
   "metadata": {},
   "outputs": [],
   "source": [
    "import numpy as np"
   ]
  },
  {
   "cell_type": "markdown",
   "id": "df7d4dab",
   "metadata": {},
   "source": [
    "а)  𝐴  — матрица  4×2 ,  𝐵  — матрица  4×2 ;\n",
    "AB и BA - неопределены (недопустимая операция, нельзя перемножить)"
   ]
  },
  {
   "cell_type": "markdown",
   "id": "990a0d43",
   "metadata": {},
   "source": [
    "б)  𝐴  — матрица  2×5 ,  𝐵  — матрица  5×3 ;\n",
    "AB - 2x3 , BA - неопределена, нельзя перемножить"
   ]
  },
  {
   "cell_type": "markdown",
   "id": "d8fb1950",
   "metadata": {},
   "source": [
    "в)  𝐴  — матрица  8×3 ,  𝐵  — матрица  3×8;\n",
    "AB - 8x8 , BA - 3x3"
   ]
  },
  {
   "cell_type": "markdown",
   "id": "96a4f9d4",
   "metadata": {},
   "source": [
    "г)  𝐴  — квадратная матрица  4×4 ,  𝐵  — квадратная матрица  4×4\n",
    "AB -4x4 , BA -4x4 ."
   ]
  },
  {
   "cell_type": "markdown",
   "id": "80482a27",
   "metadata": {},
   "source": [
    "2. Найдите сумму и произведение матриц  𝐴=(1 -2\n",
    "3 0)  и  𝐵=(4 -1 \n",
    "0 5).\n"
   ]
  },
  {
   "cell_type": "code",
   "execution_count": 4,
   "id": "1ed4e5c6",
   "metadata": {},
   "outputs": [
    {
     "name": "stdout",
     "output_type": "stream",
     "text": [
      "Сумма: A + B\n",
      "[[ 5 -3]\n",
      " [ 3  5]]\n",
      "Произведение: AB\n",
      "[[  4 -11]\n",
      " [ 12  -3]]\n"
     ]
    }
   ],
   "source": [
    "A = np.array([[1, -2], [3, 0]])\n",
    "B = np.array([[4, -1], [0, 5]])\n",
    "\n",
    "print(f'Сумма: A + B\\n{A + B}')\n",
    "print(f'Произведение: AB\\n{np.dot(A, B)}')"
   ]
  },
  {
   "cell_type": "markdown",
   "id": "6f8b8eff",
   "metadata": {},
   "source": [
    "3. _3.__ Из закономерностей сложения и умножения матриц на число можно сделать вывод, что матрицы одного размера образуют линейное пространство. Вычислите линейную комбинацию $3A-2B+4C$ для матриц $A=\\begin{pmatrix}\n",
    "1 & 7\\\\ \n",
    "3 & -6\n",
    "\\end{pmatrix}$, $B=\\begin{pmatrix}\n",
    "0 & 5\\\\ \n",
    "2 & -1\n",
    "\\end{pmatrix}$, $C=\\begin{pmatrix}\n",
    "2 & -4\\\\ \n",
    "1 & 1\n",
    "\\end{pmatrix}.$"
   ]
  },
  {
   "cell_type": "markdown",
   "id": "5b337400",
   "metadata": {},
   "source": [
    "$$3*\\begin{pmatrix}\n",
    "1 & 7\\\\ \n",
    "3 & -6\n",
    "\\end{pmatrix} - 2*\\begin{pmatrix}\n",
    "0 & 5\\\\ \n",
    "2 & -1\n",
    "\\end{pmatrix} + 4*\\begin{pmatrix}\n",
    "2 & -4\\\\ \n",
    "1 & 1\n",
    "\\end{pmatrix} = \\begin{pmatrix}\n",
    "3 & 21\\\\ \n",
    "9 & -18\n",
    "\\end{pmatrix} - \\begin{pmatrix}\n",
    "0 & 10\\\\ \n",
    "4 & -2\n",
    "\\end{pmatrix} + \\begin{pmatrix}\n",
    "8 & -16\\\\ \n",
    "4 & 4\n",
    "\\end{pmatrix} = \\begin{pmatrix}\n",
    "11 & -5\\\\ \n",
    "9 & -12\n",
    "\\end{pmatrix}$$"
   ]
  },
  {
   "cell_type": "code",
   "execution_count": 5,
   "id": "9b525c3f",
   "metadata": {},
   "outputs": [
    {
     "name": "stdout",
     "output_type": "stream",
     "text": [
      "Линейная комбинация  3𝐴 − 2𝐵 + 4𝐶 для матриц 𝐴 = \n",
      "[[ 11  -5]\n",
      " [  9 -12]]\n",
      "\n"
     ]
    }
   ],
   "source": [
    "A = np.array([[1, 7], [3, -6]])\n",
    "B = np.array([[0, 5], [2 ,-1]])\n",
    "C = np.array([[2 ,-4],[1, 1]])\n",
    "\n",
    "B2 = -2*B\n",
    "\n",
    "print(f\"Линейная комбинация  3𝐴 − 2𝐵 + 4𝐶 для матриц 𝐴 = \\n{3*A + B2 + 4*C}\\n\")"
   ]
  },
  {
   "cell_type": "markdown",
   "id": "ca4b7d00",
   "metadata": {},
   "source": [
    "4. Дана матрица  𝐴=4521−23 . Вычислите  𝐴𝐴𝑇  и  𝐴𝑇𝐴 ."
   ]
  },
  {
   "cell_type": "code",
   "execution_count": 6,
   "id": "87d948ce",
   "metadata": {},
   "outputs": [
    {
     "name": "stdout",
     "output_type": "stream",
     "text": [
      "Матрица AA^T\n",
      "[[17 18 11]\n",
      " [18 29  4]\n",
      " [11  4 13]]\n",
      "Матрица A^T*A\n",
      "[[45  0]\n",
      " [ 0 14]]\n"
     ]
    }
   ],
   "source": [
    "A = np.array([[4, 1], [5, -2], [2, 3]])\n",
    "AT = A.T\n",
    "print(f'Матрица AA^T\\n{np.dot(A, AT)}')\n",
    "print(f'Матрица A^T*A\\n{np.dot(AT, A)}')"
   ]
  },
  {
   "cell_type": "markdown",
   "id": "eb00d512",
   "metadata": {},
   "source": [
    "5*. Напишите на Python функцию для перемножения двух произвольных матриц, не используя NumPy."
   ]
  },
  {
   "cell_type": "code",
   "execution_count": 7,
   "id": "994027b4",
   "metadata": {},
   "outputs": [],
   "source": [
    "def matrix_func(matrix_A, matrix_B):\n",
    "    sum_ = 0     \n",
    "    matrix_ = []    \n",
    "    matrix_С = [] \n",
    "    if len(matrix_B)!=len(matrix_A[0]): \n",
    "        print(\"Матрицы не могут быть перемножены\")       \n",
    "    else:\n",
    "        for z in range(0, len(matrix_A)):\n",
    "            for j in range(0,len(matrix_B[0])):\n",
    "                for i in range(0,len(matrix_A[0])):\n",
    "                   sum_ += matrix_A[z][i]*matrix_B[i][j]\n",
    "                matrix_.append(sum_)\n",
    "                sum_ = 0\n",
    "            matrix_С.append(matrix_)\n",
    "            matrix_ = []           \n",
    "    return matrix_С"
   ]
  },
  {
   "cell_type": "code",
   "execution_count": 9,
   "id": "838c95d2",
   "metadata": {},
   "outputs": [
    {
     "data": {
      "text/plain": [
       "[[7, -8], [15, 0]]"
      ]
     },
     "execution_count": 9,
     "metadata": {},
     "output_type": "execute_result"
    }
   ],
   "source": [
    "a = np.array([[-2, 1], [0, 3]])\n",
    "b = np.array([[-1, 4], [5, 0]])\n",
    "matrix_func(a, b)"
   ]
  },
  {
   "cell_type": "markdown",
   "id": "43a7b26c",
   "metadata": {},
   "source": [
    "__1.__ Вычислите определитель"
   ]
  },
  {
   "cell_type": "markdown",
   "id": "a4fc381f",
   "metadata": {},
   "source": [
    "$$\\begin{vmatrix}\n",
    "sinx & -cosx\\\\ \n",
    "cosx & sinx\n",
    "\\end{vmatrix};$$\n",
    "\n",
    " $$\\begin{vmatrix}\n",
    "sinx & -cosx\\\\ \n",
    "cosx & sinx\n",
    "\\end{vmatrix};$$ = sinx sinx + cosx cosx = sin^2x +  cos^2x = 1"
   ]
  },
  {
   "cell_type": "code",
   "execution_count": 11,
   "id": "f4c5aad7",
   "metadata": {},
   "outputs": [
    {
     "name": "stdout",
     "output_type": "stream",
     "text": [
      "Определитель: sin^2(x)+cos^2(x) = 1\n"
     ]
    }
   ],
   "source": [
    "A = np.array([[4, 1], [5, -2]])\n",
    "print(f'Определитель: sin^2(x)+cos^2(x) = 1')"
   ]
  },
  {
   "cell_type": "markdown",
   "id": "f6501b63",
   "metadata": {},
   "source": [
    "б)\n",
    "    \n",
    "$$\\begin{vmatrix}\n",
    "4 & 2 & 3\\\\ \n",
    "0 & 5 & 1\\\\ \n",
    "0 & 0 & 9\n",
    "\\end{vmatrix};$$\n",
    "    \n",
    "$$\\begin{vmatrix}\n",
    "4 & 2 & 3\\\\ \n",
    "0 & 5 & 1\\\\ \n",
    "0 & 0 & 9\n",
    "\\end{vmatrix};$$ = 4*5*9 = 180"
   ]
  },
  {
   "cell_type": "code",
   "execution_count": 20,
   "id": "64a149f8",
   "metadata": {},
   "outputs": [
    {
     "name": "stdout",
     "output_type": "stream",
     "text": [
      "Определитель: 4 * 5 * 9 = 180\n",
      "Определитель: 180\n"
     ]
    }
   ],
   "source": [
    "A = np.array([[4, 2, 3], [0, 5, 1], [0, 0, 9]])\n",
    "print(f'Определитель: 4 * 5 * 9 = 180')\n",
    "print(f'Определитель: {np.linalg.det(A):.0f}')"
   ]
  },
  {
   "cell_type": "markdown",
   "id": "dbd72db7",
   "metadata": {},
   "source": [
    "в)\n",
    "\n",
    "$$\\begin{vmatrix}\n",
    "1 & 2 & 3\\\\ \n",
    "4 & 5 & 6\\\\ \n",
    "7 & 8 & 9\n",
    "\\end{vmatrix}.$$\n",
    "\n",
    "$$\\begin{vmatrix}\n",
    "1 & 2 & 3\\\\ \n",
    "4 & 5 & 6\\\\ \n",
    "7 & 8 & 9\n",
    "\\end{vmatrix}$$\n",
    "= $1 * $$\\begin{vmatrix}\n",
    "5 & 6\\\\ \n",
    "8 & 9\\\\ \n",
    "\\end{vmatrix}$$ -2 * $$\\begin{vmatrix}\n",
    "4 & 6\\\\ \n",
    "7 & 9\\\\ \n",
    "\\end{vmatrix}$$ + 3 * $$\\begin{vmatrix}\n",
    "4 & 5\\\\ \n",
    "7 & 8\\\\ \n",
    "\\end{vmatrix}$$ = -3+12-9 = 0$"
   ]
  },
  {
   "cell_type": "code",
   "execution_count": 15,
   "id": "bbb60b04",
   "metadata": {},
   "outputs": [
    {
     "name": "stdout",
     "output_type": "stream",
     "text": [
      "Определитель: -0\n"
     ]
    }
   ],
   "source": [
    "A = np.array([[1, 2, 3], [4, 5, 6], [7, 8, 9]])\n",
    "print(f'Определитель: {np.linalg.det(A):.0f}')"
   ]
  },
  {
   "cell_type": "markdown",
   "id": "3d3d31f8",
   "metadata": {},
   "source": [
    "2.__ Определитель матрицы $A$ равен $4$. Найдите:\n",
    "\n",
    "   а) $det(A^{2})$ = $det(AA)$ = $|A|$*$|A|$ = 4 * 4 = 16\n",
    "    \n",
    "   б) $det(A^{T})$ = $det(A)$ = 4\n",
    "    \n",
    "   в) $det(2A)$ = $2^2 * |A|$ = 16"
   ]
  },
  {
   "cell_type": "markdown",
   "id": "1ed959f7",
   "metadata": {},
   "source": [
    "__3.__  Докажите, что матрица:\n",
    "\n",
    "$$\\begin{pmatrix}\n",
    "-2 & 7 & -3\\\\ \n",
    "4 & -14 & 6\\\\ \n",
    "-3 & 7 & 13\n",
    "\\end{pmatrix}$$\n",
    "   \n",
    "вырожденная."
   ]
  },
  {
   "cell_type": "markdown",
   "id": "3df725f2",
   "metadata": {},
   "source": [
    "Матрица называется сингулярной, или вырожденной, если ее определитель равен нулю. Если две строки (столбца) матрицы линейно зависимы, то определитель этой матрицы равен нулю. Т.к. первая строка = (-2) умножить на вторую строку, т.е. они линейно зависимы, то определитель = 0"
   ]
  },
  {
   "cell_type": "markdown",
   "id": "64a44e5d",
   "metadata": {},
   "source": [
    "\n",
    "$$\\begin{pmatrix}\n",
    "-2 & 7 & -3\\\\ \n",
    "4 & -14 & 6\\\\ \n",
    "-3 & 7 & 13\n",
    "\\end{pmatrix}$$ = $-2 * $$\\begin{vmatrix}\n",
    "-14 & 6\\\\ \n",
    "7 & 13\\\\ \n",
    "\\end{vmatrix}$$ -7 * $$\\begin{vmatrix}\n",
    "4 & 6\\\\ \n",
    "3 & 13\\\\ \n",
    "\\end{vmatrix}$$ - 3 * $$\\begin{vmatrix}\n",
    "4 & -14\\\\ \n",
    "3 & 7\\\\ \n",
    "\\end{vmatrix}$$ = -2 * (-182 - 42) -7 * (52-18) -3*(28+52) = 448 - 238 - 210 = 0$"
   ]
  },
  {
   "cell_type": "code",
   "execution_count": 17,
   "id": "f4621861",
   "metadata": {},
   "outputs": [
    {
     "name": "stdout",
     "output_type": "stream",
     "text": [
      "Определитель: 0\n"
     ]
    }
   ],
   "source": [
    "A = np.array([[-2, 7, -3], [4, -14, 6], [-3, 7, 13]])\n",
    "print(f'Определитель: {np.linalg.det(A):.0f}')"
   ]
  },
  {
   "cell_type": "markdown",
   "id": "26533a63",
   "metadata": {},
   "source": [
    "__4.__ Найдите ранг матрицы:\n",
    "\n",
    "   а) $\\begin{pmatrix}\n",
    "1 & 2 & 3\\\\ \n",
    "1 & 1 & 1\\\\ \n",
    "2 & 3 & 4\n",
    "\\end{pmatrix};$\n",
    "\n",
    "   б) $\\begin{pmatrix}\n",
    "0 & 0 & 2 & 1\\\\ \n",
    "0 & 0 & 2 & 2\\\\ \n",
    "0 & 0 & 4 & 3\\\\ \n",
    "2 & 3 & 5 & 6\n",
    "\\end{pmatrix}.$"
   ]
  },
  {
   "cell_type": "code",
   "execution_count": 18,
   "id": "8e2dbbc7",
   "metadata": {},
   "outputs": [
    {
     "name": "stdout",
     "output_type": "stream",
     "text": [
      "[[1 2 3]\n",
      " [1 1 1]\n",
      " [2 3 4]]\n",
      "Ранг матрицы: 2\n"
     ]
    }
   ],
   "source": [
    "a = np.array([[1, 2, 3], [1, 1, 1], [2, 3, 4]])\n",
    "\n",
    "print(f'{a}')\n",
    "print(f'Ранг матрицы: {np.linalg.matrix_rank(a)}')"
   ]
  },
  {
   "cell_type": "code",
   "execution_count": 19,
   "id": "e4a11c8c",
   "metadata": {},
   "outputs": [
    {
     "name": "stdout",
     "output_type": "stream",
     "text": [
      "[[0 0 2 1]\n",
      " [0 0 2 2]\n",
      " [0 0 4 3]\n",
      " [2 3 5 6]]\n",
      "Ранг матрицы: 3\n"
     ]
    }
   ],
   "source": [
    "b = np.array([[0, 0, 2, 1], [0, 0, 2, 2], [0, 0, 4, 3], [2, 3, 5, 6]])\n",
    "\n",
    "print(f'{b}')\n",
    "print(f'Ранг матрицы: {np.linalg.matrix_rank(b)}')"
   ]
  },
  {
   "cell_type": "code",
   "execution_count": null,
   "id": "4f4a3ebf",
   "metadata": {},
   "outputs": [],
   "source": []
  }
 ],
 "metadata": {
  "kernelspec": {
   "display_name": "Python 3 (ipykernel)",
   "language": "python",
   "name": "python3"
  },
  "language_info": {
   "codemirror_mode": {
    "name": "ipython",
    "version": 3
   },
   "file_extension": ".py",
   "mimetype": "text/x-python",
   "name": "python",
   "nbconvert_exporter": "python",
   "pygments_lexer": "ipython3",
   "version": "3.9.7"
  }
 },
 "nbformat": 4,
 "nbformat_minor": 5
}
