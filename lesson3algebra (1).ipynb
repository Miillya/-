{
 "cells": [
  {
   "cell_type": "markdown",
   "id": "e5b75a35",
   "metadata": {},
   "source": [
    "\n",
    "__1.__ Найдите собственные векторы и собственные значения для линейного оператора, заданного матрицей:\n",
    "\n",
    "$$A=\\begin{pmatrix}\n",
    "-1 & -6\\\\ \n",
    "2 & 6\n",
    "\\end{pmatrix}.$$"
   ]
  },
  {
   "cell_type": "code",
   "execution_count": 8,
   "id": "f616b295",
   "metadata": {},
   "outputs": [],
   "source": [
    "import numpy as np"
   ]
  },
  {
   "cell_type": "markdown",
   "id": "df62f622",
   "metadata": {},
   "source": [
    "x1=2\n",
    "x2=3"
   ]
  },
  {
   "cell_type": "markdown",
   "id": "5b774179",
   "metadata": {},
   "source": [
    "$$\\begin{pmatrix}\n",
    "-1 & -6\\\\ \n",
    "2 & 6\n",
    "\\end{pmatrix}\n",
    "\\begin{pmatrix}\n",
    "x_{1}\\\\ \n",
    "x_{2}\n",
    "\\end{pmatrix}=\n",
    "\\lambda\n",
    "\\begin{pmatrix}\n",
    "x_{1}\\\\ \n",
    "x_{2}\n",
    "\\end{pmatrix}.\n",
    "$$\n"
   ]
  },
  {
   "cell_type": "markdown",
   "id": "d28d311d",
   "metadata": {},
   "source": [
    "$\\lambda = 2$"
   ]
  },
  {
   "cell_type": "markdown",
   "id": "5dbe4103",
   "metadata": {},
   "source": [
    "\n",
    "$$\\begin{cases}\n",
    "-x_{1}-6x_{2}= 2x_{1}, \\\\\n",
    "2x_{1}+6x_{2}= 2x_{2}.\n",
    "\\end{cases}$$ \n",
    "\n",
    "$$\\begin{cases}\n",
    "3x_{1}=-6x_{2}, \\\\\n",
    "2x_{2} = -x_{1}.\n",
    "\\end{cases}$$\n",
    "\n",
    "$$\\begin{cases}\n",
    "x_{1}=-2x_{2}, \\\\\n",
    "2x_{2} = -x_{1}.\n",
    "\\end{cases}$$\n",
    "\n",
    "$$\\begin{cases}\n",
    "x_{1}=-2, \\\\\n",
    "x_{2} = 1.\n",
    "\\end{cases}$$"
   ]
  },
  {
   "cell_type": "markdown",
   "id": "3f99cf55",
   "metadata": {},
   "source": [
    "v1 = (-2,1)"
   ]
  },
  {
   "cell_type": "markdown",
   "id": "8033c10f",
   "metadata": {},
   "source": [
    "$\\lambda = 3$"
   ]
  },
  {
   "cell_type": "markdown",
   "id": "541feaea",
   "metadata": {},
   "source": [
    "$$\\begin{cases}\n",
    "-x_{1}-6x_{2}= 3x_{1}, \\\\\n",
    "2x_{1}+6x_{2}= 3x_{2}.\n",
    "\\end{cases}$$ \n",
    "\n",
    "$$\\begin{cases}\n",
    "4x_{1}=-6x_{2}, \\\\\n",
    "2x_{1} = -3x_{2}.\n",
    "\\end{cases}$$\n",
    "\n",
    "$$\\begin{cases}\n",
    "x_{1}=-3/2x_{2}, \\\\\n",
    "x_{1} = -3/2x_{2}.\n",
    "\\end{cases}$$\n",
    "\n",
    "$$\\begin{cases}\n",
    "x_{1}=3/2, \\\\\n",
    "x_{2} =-1.\n",
    "\\end{cases}$$"
   ]
  },
  {
   "cell_type": "markdown",
   "id": "80cd2a2b",
   "metadata": {},
   "source": [
    "v1 = (3/2,-1)"
   ]
  },
  {
   "cell_type": "code",
   "execution_count": 4,
   "id": "606834b4",
   "metadata": {},
   "outputs": [
    {
     "name": "stdout",
     "output_type": "stream",
     "text": [
      "Матрица A:\n",
      "[[-1 -6]\n",
      " [ 2  6]]\n",
      "Собственные значения:\n",
      "[2 3]\n",
      "\n",
      "Собственные векторы:\n",
      "[-2  1], [ 1.5 -1. ]\n",
      "\n",
      "Нормированные собственные векторы:\n",
      "[-0.89442719  0.4472136 ], [ 0.83205029 -0.5547002 ]\n",
      "\n"
     ]
    }
   ],
   "source": [
    "a = np.array([[-1, -6],\n",
    "              [2, 6]])\n",
    "\n",
    "v1 = np.array([-2, 1])\n",
    "v2 = np.array([3/2, -1])\n",
    "\n",
    "n1 = np.linalg.norm(v1)\n",
    "n2 = np.linalg.norm(v2)\n",
    "\n",
    "print(f'Матрица A:\\n{a}')\n",
    "print(f'Собственные значения:\\n{np.array([2, 3])}\\n')\n",
    "print(f'Собственные векторы:\\n{v1}, {v2}\\n')\n",
    "print(f'Нормированные собственные векторы:\\n{v1/n1}, {v2/n2}\\n')"
   ]
  },
  {
   "cell_type": "code",
   "execution_count": 5,
   "id": "0c29e244",
   "metadata": {},
   "outputs": [
    {
     "name": "stdout",
     "output_type": "stream",
     "text": [
      "Матрица A:\n",
      "[[-1 -6]\n",
      " [ 2  6]]\n",
      "Собственные значения:\n",
      "[2. 3.]\n",
      "\n",
      "Собственные векторы:\n",
      "[-0.89442719  0.4472136 ], [ 0.83205029 -0.5547002 ]\n",
      "\n"
     ]
    }
   ],
   "source": [
    "w, v = np.linalg.eig(a)\n",
    "\n",
    "print(f'Матрица A:\\n{a}')\n",
    "print(f'Собственные значения:\\n{w}\\n')\n",
    "print(f'Собственные векторы:\\n{v[:, 0]}, {v[:, 1]}\\n')"
   ]
  },
  {
   "cell_type": "markdown",
   "id": "31703d0b",
   "metadata": {},
   "source": [
    "__2.__ Дан оператор поворота на 180 градусов, задаваемый матрицей:\n",
    "\n",
    "$$A=\\begin{pmatrix}\n",
    "-1 & 0\\\\ \n",
    "0 & -1\n",
    "\\end{pmatrix}.$$\n",
    "\n",
    "Покажите, что __любой__ вектор считается для него собственным."
   ]
  },
  {
   "cell_type": "markdown",
   "id": "2078d4ca",
   "metadata": {},
   "source": [
    "$$\\begin{pmatrix}\n",
    "-1 & 0\\\\ \n",
    "0 & -1\n",
    "\\end{pmatrix}\n",
    "\\begin{pmatrix}\n",
    "2\\\\ \n",
    "1 \n",
    "\\end{pmatrix}=\n",
    "\\lambda\n",
    "\\begin{pmatrix}\n",
    "2\\\\ \n",
    "1\n",
    "\\end{pmatrix}.\n",
    "$$\n"
   ]
  },
  {
   "cell_type": "markdown",
   "id": "cd372e4f",
   "metadata": {},
   "source": [
    "$$\\Rightarrow\n",
    "\\begin{cases}\n",
    "\\lambda=-1\\\\ \n",
    "\\lambda=-1\\Rightarrow\\lambda=-1\n",
    "\\end{cases}$$\n",
    "\n",
    "$$\\Rightarrow\n",
    "\\begin{cases}\n",
    "\\lambda=-1\\\\ \n",
    "\\lambda=-1\\Rightarrow\\lambda=-1\n",
    "\\end{cases}$$"
   ]
  },
  {
   "cell_type": "code",
   "execution_count": 6,
   "id": "d470d76b",
   "metadata": {},
   "outputs": [],
   "source": [
    "a = np.array([[-1, 0], [0, -1]])"
   ]
  },
  {
   "cell_type": "code",
   "execution_count": 7,
   "id": "5e3f8ae5",
   "metadata": {},
   "outputs": [
    {
     "name": "stdout",
     "output_type": "stream",
     "text": [
      "Матрица A:\n",
      "[[-1  0]\n",
      " [ 0 -1]]\n",
      "Собственные значения:\n",
      "[-1. -1.]\n",
      "\n",
      "Собственные векторы:\n",
      "[1. 0.], [0. 1.]\n",
      "\n"
     ]
    }
   ],
   "source": [
    "w, v = np.linalg.eig(a)\n",
    "\n",
    "print(f'Матрица A:\\n{a}')\n",
    "print(f'Собственные значения:\\n{w}\\n')\n",
    "print(f'Собственные векторы:\\n{v[:, 0]}, {v[:, 1]}\\n')"
   ]
  },
  {
   "cell_type": "markdown",
   "id": "b38c283e",
   "metadata": {},
   "source": [
    "__3.__ Пусть линейный оператор задан матрицей:\n",
    "\n",
    "$$A=\\begin{pmatrix}\n",
    "1 & 1\\\\ \n",
    "-1 & 3\n",
    "\\end{pmatrix}.$$\n",
    "\n",
    "Установите, считается ли вектор $x=(1,1)$ собственным вектором этого линейного оператора.\n"
   ]
  },
  {
   "cell_type": "markdown",
   "id": "51b29427",
   "metadata": {},
   "source": [
    "$$\\begin{pmatrix}\n",
    "1 & 1\\\\ \n",
    "-1 & 3\n",
    "\\end{pmatrix}\n",
    "\\begin{pmatrix}\n",
    "1\\\\ \n",
    "1 \n",
    "\\end{pmatrix}=\n",
    "\\lambda\n",
    "\\begin{pmatrix}\n",
    "1\\\\ \n",
    "1\n",
    "\\end{pmatrix}.\n",
    "$$\n"
   ]
  },
  {
   "cell_type": "markdown",
   "id": "2421309a",
   "metadata": {},
   "source": [
    "$$\\begin{cases}\n",
    "1+1=1\\cdot\\lambda \\\\ \n",
    "-1+3 = 1\\cdot \\lambda\n",
    "\\end{cases}\n",
    "\\Rightarrow\n",
    "\\begin{cases}\n",
    "\\lambda=2\\\\ \n",
    "\\lambda=2\n",
    "\\end{cases}.$$\n"
   ]
  },
  {
   "cell_type": "code",
   "execution_count": 9,
   "id": "8fbca564",
   "metadata": {},
   "outputs": [
    {
     "data": {
      "text/plain": [
       "array([2., 2.])"
      ]
     },
     "execution_count": 9,
     "metadata": {},
     "output_type": "execute_result"
    }
   ],
   "source": [
    "a = np.array([[1, 1], \n",
    "              [-1, 3]])\n",
    "x = np.array([1, 1])\n",
    "l = np.dot(a, x)\n",
    "l / x"
   ]
  },
  {
   "cell_type": "markdown",
   "id": "7a94d77b",
   "metadata": {},
   "source": [
    "**4.** Пусть линейный оператор задан матрицей:\n",
    "\n",
    "$$A=\\begin{pmatrix} 0 & 3 & 0\\\\ 3 & 0 & 0\\\\ 0 & 0 & 3 \\end{pmatrix}.$$\n",
    "\n",
    "Установите, считается ли вектор $x=(3, -3, -4)$ собственным вектором этого линейного оператора."
   ]
  },
  {
   "cell_type": "markdown",
   "id": "e577da8a",
   "metadata": {},
   "source": [
    "$$\\begin{pmatrix}\n",
    "0 & 3 & 0\\\\ \n",
    "3 & 0 & 0\\\\\n",
    "0 & 0 & 3\n",
    "\\end{pmatrix}\n",
    "\\begin{pmatrix}\n",
    "3\\\\\n",
    "-3\\\\\n",
    "-4\n",
    "\\end{pmatrix}=\n",
    "\\lambda\n",
    "\\begin{pmatrix}\n",
    "3\\\\\n",
    "-3\\\\\n",
    "-4\n",
    "\\end{pmatrix}\n",
    "$$\n",
    "\n",
    "$$\\Rightarrow\n",
    "\\begin{cases}\n",
    "3\\lambda=-9\\\\ \n",
    "-3\\lambda=9\\\\\n",
    "-4\\lambda=12\n",
    "\\end{cases}$$\n",
    "\n",
    "$$\\Rightarrow\n",
    "\\begin{cases}\n",
    "\\lambda=-3\\\\ \n",
    "\\lambda=-3\\\\\n",
    "\\lambda=3\n",
    "\\end{cases}$$"
   ]
  },
  {
   "cell_type": "code",
   "execution_count": 10,
   "id": "b304c6bb",
   "metadata": {},
   "outputs": [
    {
     "name": "stdout",
     "output_type": "stream",
     "text": [
      "[ -9   9 -12]\n",
      "Ответ: вектор x=(3, -3, -4) не является собственным вектором линейного оператора A.\n"
     ]
    }
   ],
   "source": [
    "a = np.array([[0, 3, 0], \n",
    "              [3, 0, 0], \n",
    "              [0, 0, 3]])\n",
    "y = np.array([3, -3, -4])\n",
    "lam = np.dot(a, y)\n",
    "print(lam)\n",
    "np.divide(lam, y)\n",
    "print(f'Ответ: вектор x=(3, -3, -4) не является собственным вектором линейного оператора A.')"
   ]
  },
  {
   "cell_type": "code",
   "execution_count": null,
   "id": "dc2edcdb",
   "metadata": {},
   "outputs": [],
   "source": []
  }
 ],
 "metadata": {
  "kernelspec": {
   "display_name": "Python 3 (ipykernel)",
   "language": "python",
   "name": "python3"
  },
  "language_info": {
   "codemirror_mode": {
    "name": "ipython",
    "version": 3
   },
   "file_extension": ".py",
   "mimetype": "text/x-python",
   "name": "python",
   "nbconvert_exporter": "python",
   "pygments_lexer": "ipython3",
   "version": "3.9.7"
  }
 },
 "nbformat": 4,
 "nbformat_minor": 5
}
